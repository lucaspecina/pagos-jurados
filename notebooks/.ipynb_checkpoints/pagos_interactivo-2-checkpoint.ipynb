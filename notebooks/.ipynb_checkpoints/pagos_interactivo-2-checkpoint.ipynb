{
 "cells": [
  {
   "cell_type": "code",
   "execution_count": 18,
   "metadata": {
    "colab": {
     "base_uri": "https://localhost:8080/",
     "height": 70
    },
    "colab_type": "code",
    "id": "LBhzeb89JQEv",
    "outputId": "5a4c846f-4228-4c07-a737-7683962cc18a"
   },
   "outputs": [],
   "source": [
    "import pandas as pd\n",
    "import numpy as np\n",
    "import matplotlib.pyplot as plt\n",
    "import seaborn as sns\n",
    "import ipywidgets as widgets\n",
    "import re\n",
    "\n",
    "'''Hay que fijarse cuales son las celdas (de vectores) que tienen len(x) > 25 y aplicarle esto'''\n",
    "\n",
    "def arreglar_notacion_cientifica(df,fila,columna):\n",
    "    para_regex = df.iloc[fila][columna].replace('  ',' ').replace('[','').replace(']','').replace('\\n','').split(' ')\n",
    "    numeros = []\n",
    "    for stri in para_regex:\n",
    "        if len(stri)>3:\n",
    "            reg = re.findall('[-]?\\d+', stri)\n",
    "            num = str(int(round(float(f'{reg[0]}.{reg[1]}')*10**int(reg[2]),0)))\n",
    "            numeros.append(num)\n",
    "    df.at[fila,columna] = ' '.join(numeros)\n",
    "    return df"
   ]
  },
  {
   "cell_type": "markdown",
   "metadata": {},
   "source": [
    "Esquema de pagos a jurados para la corrección de exámenes de postulantes en concursos\n",
    "---\n",
    "\n",
    "### Reglas\n",
    "\n",
    "hay un maximo soportado\n",
    "\n"
   ]
  },
  {
   "cell_type": "code",
   "execution_count": 261,
   "metadata": {},
   "outputs": [],
   "source": [
    "params = pd.read_csv('https://raw.githubusercontent.com/lucaspecina/pagos-jurados/master/PAGOS_EXAMENES_VECTORES_CONMAX_2.csv')\n",
    "\n",
    "params = arreglar_notacion_cientifica(params,51,'FIJO20_diferencia_limite_boot')\n",
    "\n",
    "params['FIJO20_diferencia_limite_boot'] = params.apply(lambda x:\n",
    "            [int(valor) for valor in re.findall('[-]?\\d+', x.FIJO20_diferencia_limite_boot)],axis='columns')\n",
    "\n",
    "params['MITAD_MAS_diferencia_limite_boot'] = params.apply(lambda x:\n",
    "        [int(valor) for valor in re.findall('[-]?\\d+', x.MITAD_MAS_diferencia_limite_boot)],axis='columns')\n",
    "\n",
    "params = arreglar_notacion_cientifica(params,17,'DOBLE_diferencia_limite_boot')\n",
    "\n",
    "params['DOBLE_diferencia_limite_boot'] = params.apply(lambda x:\n",
    "        [int(valor) for valor in re.findall('[-]?\\d+', x.DOBLE_diferencia_limite_boot)],axis='columns')"
   ]
  },
  {
   "cell_type": "code",
   "execution_count": 269,
   "metadata": {
    "colab": {
     "base_uri": "https://localhost:8080/",
     "height": 1000,
     "referenced_widgets": [
      "eea93260b9aa4aecb22fc5e6ad74a016",
      "884a5f10f0454e20acce0fc5c1617195",
      "a53a02c0cb244d7cb3cef6cafb24e323",
      "87e3456aaa1e4ff1ae7d757d71b8e0b1",
      "2b37552c4b77402598c48fd4962fe04f",
      "d665fbed14d0463d8a73b1356170554a",
      "5d194506f839477796579b51bb6dce01",
      "650247ad7e5448539263466e6f744873",
      "2ff115afa59e4d0dbfc4106ec0bcb0a9",
      "4117b9d4a6ae42c8b7385ec1a3ca9218",
      "aa8bab168606416993dad2f2ba7aa0e7",
      "ce89ed76d4de4e58acce6e2bffbc3513",
      "086c5728af7a46eea5d0cae5d1056ff0"
     ]
    },
    "colab_type": "code",
    "id": "T4-AaH3TJQE6",
    "outputId": "c88b0aa1-6797-4025-dc7b-458ee8938460"
   },
   "outputs": [
    {
     "data": {
      "application/vnd.jupyter.widget-view+json": {
       "model_id": "63dd4adbf73048df8db1bcaedf92a5e3",
       "version_major": 2,
       "version_minor": 0
      },
      "text/plain": [
       "interactive(children=(Dropdown(description='piso', options=(8000, 10000, 12000, 16000), value=8000), Dropdown(…"
      ]
     },
     "metadata": {},
     "output_type": "display_data"
    },
    {
     "data": {
      "text/plain": [
       "<function __main__.plotear(piso=8000, tope=30000, max_examen=180)>"
      ]
     },
     "metadata": {},
     "output_type": "display_data"
    }
   ],
   "source": [
    "def plotear(piso=8_000,tope=30_000,max_examen=180):\n",
    "    data_plot = params[(params.piso==piso) & (params.tope==tope) & (params.max_examen==max_examen)]\n",
    "    print(f'MAX_EXAMEN: hay que restarle 30 para saber el maximo aproximado para cada persona')\n",
    "    print(f'PENDIENTE: ${data_plot.pend.values[0]} por exámen')\n",
    "    print(f'LÍMITE PRESUPUESTARIO: ${params.limite[0]}')\n",
    "\n",
    "    \n",
    "    fig,axes = plt.subplots(3,1,figsize=(14,11),sharex=True)\n",
    "    \n",
    "    sns.distplot(data_plot.FIJO20_diferencia_limite_boot.values[0],ax=axes[0])\n",
    "    axes[0].axvline(x=0,color='red',linestyle='--')\n",
    "    axes[0].set_title('Simulaciones con misma cantidad de concursos que 2020: 22')\n",
    "    \n",
    "    sns.distplot(data_plot.MITAD_MAS_diferencia_limite_boot.values[0],ax=axes[1])\n",
    "    axes[1].axvline(x=0,color='red',linestyle='--')\n",
    "    axes[1].set_title('Simulaciones con %50 más de concursos que 2020: 33')\n",
    "\n",
    "    sns.distplot(data_plot.DOBLE_diferencia_limite_boot.values[0],ax=axes[2])\n",
    "    plt.axvline(x=0,color='red',linestyle='--')\n",
    "    axes[2].set_title('Simulaciones con el doble de concursos que 2020: 44')\n",
    "    plt.text(x=-100_000,y=0,s='límite presupuesto',color='red',fontsize=14)\n",
    "    \n",
    "    print(f'\\nRESULTADOS (Si da positivo es que hay un ahorro. Si es negativo es porque supera el límite)')\n",
    "\n",
    "    print(f'\\nSimulacion con misma cantidad de concursos que 2020 (22):\\n- Promedio de las simulaciones (comparación con límite presupuestario): ${data_plot.FIJO20_media_boot.values[0]}')\n",
    "    print(f'- Variación (1 desvío estándar): ${int(data_plot.FIJO20_std_boot.values[0])}\\n- Porcentaje de las simulaciones que no superan límite: %{data_plot.FIJO20_porcentaje_inferior_0.values[0]*100}')\n",
    "\n",
    "    print(f'\\nSimulacion con %50 mas de concursos que 2020 (33):\\n- Promedio de las simulaciones (comparación con límite presupuestario): ${data_plot.MITAD_MAS_media_boot.values[0]}')\n",
    "    print(f'- Variación (1 desvío estándar): ${int(data_plot.MITAD_MAS_std_boot.values[0])}\\n- Porcentaje de las simulaciones que no superan límite: %{data_plot.MITAD_MAS_porcentaje_inferior_0.values[0]*100}')\n",
    "\n",
    "    print(f'\\nSimulacion con el doble de concursos que 2020 (44):\\n- Promedio de las simulaciones (comparación con límite presupuestario): ${data_plot.DOBLE_media_boot.values[0]}')\n",
    "    print(f'- Variación (1 desvío estándar): ${int(data_plot.DOBLE_std_boot.values[0])}\\n- Porcentaje de las simulaciones que no superan límite: %{data_plot.DOBLE_porcentaje_inferior_0.values[0]*100}')\n",
    "\n",
    "    print(f'\\nCosto total (año) usando el esquema de pagos elegido para el 2020: ${data_plot.costo_nuevo.values[0]}')\n",
    "    print(f'Costo total (año) usando el esquema de pagos anterior ($31200 por corrector) para el 2020: ${data_plot.costo_viejo.values[0]}')\n",
    "    print(f'Comparación con el método anterior ($31200 por corrector): ${data_plot.diferencia_metodo.values[0]}')\n",
    "    #     return data_plot.drop(columns=['diferencia_limite_boot','MITAD_MAS_diferencia_limite_boot','DOBLE_diferencia_limite_boot'])\n",
    "\n",
    "slider = widgets.interact(plotear, piso=[8_000,10_000,12_000,16_000], \n",
    "                          tope = [30_000,35_000,40_000,45_000,50_000],\n",
    "                          max_examen=[110,150,180] )\n",
    "display(slider)"
   ]
  },
  {
   "cell_type": "code",
   "execution_count": 289,
   "metadata": {},
   "outputs": [],
   "source": [
    "!jt -f oxygen"
   ]
  },
  {
   "cell_type": "code",
   "execution_count": null,
   "metadata": {},
   "outputs": [],
   "source": []
  }
 ],
 "metadata": {
  "colab": {
   "collapsed_sections": [],
   "name": "pagos_interactivo.ipynb",
   "provenance": []
  },
  "kernelspec": {
   "display_name": "Python 3",
   "language": "python",
   "name": "python3"
  },
  "language_info": {
   "codemirror_mode": {
    "name": "ipython",
    "version": 3
   },
   "file_extension": ".py",
   "mimetype": "text/x-python",
   "name": "python",
   "nbconvert_exporter": "python",
   "pygments_lexer": "ipython3",
   "version": "3.7.2"
  },
  "toc": {
   "base_numbering": 1,
   "nav_menu": {},
   "number_sections": false,
   "sideBar": true,
   "skip_h1_title": false,
   "title_cell": "Table of Contents",
   "title_sidebar": "Contents",
   "toc_cell": false,
   "toc_position": {},
   "toc_section_display": true,
   "toc_window_display": false
  },
  "varInspector": {
   "cols": {
    "lenName": 16,
    "lenType": 16,
    "lenVar": 40
   },
   "kernels_config": {
    "python": {
     "delete_cmd_postfix": "",
     "delete_cmd_prefix": "del ",
     "library": "var_list.py",
     "varRefreshCmd": "print(var_dic_list())"
    },
    "r": {
     "delete_cmd_postfix": ") ",
     "delete_cmd_prefix": "rm(",
     "library": "var_list.r",
     "varRefreshCmd": "cat(var_dic_list()) "
    }
   },
   "types_to_exclude": [
    "module",
    "function",
    "builtin_function_or_method",
    "instance",
    "_Feature"
   ],
   "window_display": false
  },
  "widgets": {
   "application/vnd.jupyter.widget-state+json": {
    "086c5728af7a46eea5d0cae5d1056ff0": {
     "model_module": "@jupyter-widgets/base",
     "model_name": "LayoutModel",
     "state": {
      "_model_module": "@jupyter-widgets/base",
      "_model_module_version": "1.2.0",
      "_model_name": "LayoutModel",
      "_view_count": null,
      "_view_module": "@jupyter-widgets/base",
      "_view_module_version": "1.2.0",
      "_view_name": "LayoutView",
      "align_content": null,
      "align_items": null,
      "align_self": null,
      "border": null,
      "bottom": null,
      "display": null,
      "flex": null,
      "flex_flow": null,
      "grid_area": null,
      "grid_auto_columns": null,
      "grid_auto_flow": null,
      "grid_auto_rows": null,
      "grid_column": null,
      "grid_gap": null,
      "grid_row": null,
      "grid_template_areas": null,
      "grid_template_columns": null,
      "grid_template_rows": null,
      "height": null,
      "justify_content": null,
      "justify_items": null,
      "left": null,
      "margin": null,
      "max_height": null,
      "max_width": null,
      "min_height": null,
      "min_width": null,
      "object_fit": null,
      "object_position": null,
      "order": null,
      "overflow": null,
      "overflow_x": null,
      "overflow_y": null,
      "padding": null,
      "right": null,
      "top": null,
      "visibility": null,
      "width": null
     }
    },
    "2b37552c4b77402598c48fd4962fe04f": {
     "model_module": "@jupyter-widgets/controls",
     "model_name": "DropdownModel",
     "state": {
      "_dom_classes": [],
      "_model_module": "@jupyter-widgets/controls",
      "_model_module_version": "1.5.0",
      "_model_name": "DropdownModel",
      "_options_labels": [
       "50000",
       "60000",
       "75000"
      ],
      "_view_count": null,
      "_view_module": "@jupyter-widgets/controls",
      "_view_module_version": "1.5.0",
      "_view_name": "DropdownView",
      "description": "tope_w",
      "description_tooltip": null,
      "disabled": false,
      "index": 1,
      "layout": "IPY_MODEL_ce89ed76d4de4e58acce6e2bffbc3513",
      "style": "IPY_MODEL_aa8bab168606416993dad2f2ba7aa0e7"
     }
    },
    "2ff115afa59e4d0dbfc4106ec0bcb0a9": {
     "model_module": "@jupyter-widgets/controls",
     "model_name": "DescriptionStyleModel",
     "state": {
      "_model_module": "@jupyter-widgets/controls",
      "_model_module_version": "1.5.0",
      "_model_name": "DescriptionStyleModel",
      "_view_count": null,
      "_view_module": "@jupyter-widgets/base",
      "_view_module_version": "1.2.0",
      "_view_name": "StyleView",
      "description_width": ""
     }
    },
    "4117b9d4a6ae42c8b7385ec1a3ca9218": {
     "model_module": "@jupyter-widgets/base",
     "model_name": "LayoutModel",
     "state": {
      "_model_module": "@jupyter-widgets/base",
      "_model_module_version": "1.2.0",
      "_model_name": "LayoutModel",
      "_view_count": null,
      "_view_module": "@jupyter-widgets/base",
      "_view_module_version": "1.2.0",
      "_view_name": "LayoutView",
      "align_content": null,
      "align_items": null,
      "align_self": null,
      "border": null,
      "bottom": null,
      "display": null,
      "flex": null,
      "flex_flow": null,
      "grid_area": null,
      "grid_auto_columns": null,
      "grid_auto_flow": null,
      "grid_auto_rows": null,
      "grid_column": null,
      "grid_gap": null,
      "grid_row": null,
      "grid_template_areas": null,
      "grid_template_columns": null,
      "grid_template_rows": null,
      "height": null,
      "justify_content": null,
      "justify_items": null,
      "left": null,
      "margin": null,
      "max_height": null,
      "max_width": null,
      "min_height": null,
      "min_width": null,
      "object_fit": null,
      "object_position": null,
      "order": null,
      "overflow": null,
      "overflow_x": null,
      "overflow_y": null,
      "padding": null,
      "right": null,
      "top": null,
      "visibility": null,
      "width": null
     }
    },
    "5d194506f839477796579b51bb6dce01": {
     "model_module": "@jupyter-widgets/controls",
     "model_name": "DescriptionStyleModel",
     "state": {
      "_model_module": "@jupyter-widgets/controls",
      "_model_module_version": "1.5.0",
      "_model_name": "DescriptionStyleModel",
      "_view_count": null,
      "_view_module": "@jupyter-widgets/base",
      "_view_module_version": "1.2.0",
      "_view_name": "StyleView",
      "description_width": ""
     }
    },
    "650247ad7e5448539263466e6f744873": {
     "model_module": "@jupyter-widgets/base",
     "model_name": "LayoutModel",
     "state": {
      "_model_module": "@jupyter-widgets/base",
      "_model_module_version": "1.2.0",
      "_model_name": "LayoutModel",
      "_view_count": null,
      "_view_module": "@jupyter-widgets/base",
      "_view_module_version": "1.2.0",
      "_view_name": "LayoutView",
      "align_content": null,
      "align_items": null,
      "align_self": null,
      "border": null,
      "bottom": null,
      "display": null,
      "flex": null,
      "flex_flow": null,
      "grid_area": null,
      "grid_auto_columns": null,
      "grid_auto_flow": null,
      "grid_auto_rows": null,
      "grid_column": null,
      "grid_gap": null,
      "grid_row": null,
      "grid_template_areas": null,
      "grid_template_columns": null,
      "grid_template_rows": null,
      "height": null,
      "justify_content": null,
      "justify_items": null,
      "left": null,
      "margin": null,
      "max_height": null,
      "max_width": null,
      "min_height": null,
      "min_width": null,
      "object_fit": null,
      "object_position": null,
      "order": null,
      "overflow": null,
      "overflow_x": null,
      "overflow_y": null,
      "padding": null,
      "right": null,
      "top": null,
      "visibility": null,
      "width": null
     }
    },
    "87e3456aaa1e4ff1ae7d757d71b8e0b1": {
     "model_module": "@jupyter-widgets/controls",
     "model_name": "DropdownModel",
     "state": {
      "_dom_classes": [],
      "_model_module": "@jupyter-widgets/controls",
      "_model_module_version": "1.5.0",
      "_model_name": "DropdownModel",
      "_options_labels": [
       "50",
       "100",
       "150",
       "200",
       "250",
       "300",
       "350"
      ],
      "_view_count": null,
      "_view_module": "@jupyter-widgets/controls",
      "_view_module_version": "1.5.0",
      "_view_name": "DropdownView",
      "description": "pend_w",
      "description_tooltip": null,
      "disabled": false,
      "index": 0,
      "layout": "IPY_MODEL_4117b9d4a6ae42c8b7385ec1a3ca9218",
      "style": "IPY_MODEL_2ff115afa59e4d0dbfc4106ec0bcb0a9"
     }
    },
    "884a5f10f0454e20acce0fc5c1617195": {
     "model_module": "@jupyter-widgets/base",
     "model_name": "LayoutModel",
     "state": {
      "_model_module": "@jupyter-widgets/base",
      "_model_module_version": "1.2.0",
      "_model_name": "LayoutModel",
      "_view_count": null,
      "_view_module": "@jupyter-widgets/base",
      "_view_module_version": "1.2.0",
      "_view_name": "LayoutView",
      "align_content": null,
      "align_items": null,
      "align_self": null,
      "border": null,
      "bottom": null,
      "display": null,
      "flex": null,
      "flex_flow": null,
      "grid_area": null,
      "grid_auto_columns": null,
      "grid_auto_flow": null,
      "grid_auto_rows": null,
      "grid_column": null,
      "grid_gap": null,
      "grid_row": null,
      "grid_template_areas": null,
      "grid_template_columns": null,
      "grid_template_rows": null,
      "height": null,
      "justify_content": null,
      "justify_items": null,
      "left": null,
      "margin": null,
      "max_height": null,
      "max_width": null,
      "min_height": null,
      "min_width": null,
      "object_fit": null,
      "object_position": null,
      "order": null,
      "overflow": null,
      "overflow_x": null,
      "overflow_y": null,
      "padding": null,
      "right": null,
      "top": null,
      "visibility": null,
      "width": null
     }
    },
    "a53a02c0cb244d7cb3cef6cafb24e323": {
     "model_module": "@jupyter-widgets/controls",
     "model_name": "DropdownModel",
     "state": {
      "_dom_classes": [],
      "_model_module": "@jupyter-widgets/controls",
      "_model_module_version": "1.5.0",
      "_model_name": "DropdownModel",
      "_options_labels": [
       "6000",
       "8000",
       "10000",
       "12000",
       "16000"
      ],
      "_view_count": null,
      "_view_module": "@jupyter-widgets/controls",
      "_view_module_version": "1.5.0",
      "_view_name": "DropdownView",
      "description": "piso_w",
      "description_tooltip": null,
      "disabled": false,
      "index": 1,
      "layout": "IPY_MODEL_650247ad7e5448539263466e6f744873",
      "style": "IPY_MODEL_5d194506f839477796579b51bb6dce01"
     }
    },
    "aa8bab168606416993dad2f2ba7aa0e7": {
     "model_module": "@jupyter-widgets/controls",
     "model_name": "DescriptionStyleModel",
     "state": {
      "_model_module": "@jupyter-widgets/controls",
      "_model_module_version": "1.5.0",
      "_model_name": "DescriptionStyleModel",
      "_view_count": null,
      "_view_module": "@jupyter-widgets/base",
      "_view_module_version": "1.2.0",
      "_view_name": "StyleView",
      "description_width": ""
     }
    },
    "ce89ed76d4de4e58acce6e2bffbc3513": {
     "model_module": "@jupyter-widgets/base",
     "model_name": "LayoutModel",
     "state": {
      "_model_module": "@jupyter-widgets/base",
      "_model_module_version": "1.2.0",
      "_model_name": "LayoutModel",
      "_view_count": null,
      "_view_module": "@jupyter-widgets/base",
      "_view_module_version": "1.2.0",
      "_view_name": "LayoutView",
      "align_content": null,
      "align_items": null,
      "align_self": null,
      "border": null,
      "bottom": null,
      "display": null,
      "flex": null,
      "flex_flow": null,
      "grid_area": null,
      "grid_auto_columns": null,
      "grid_auto_flow": null,
      "grid_auto_rows": null,
      "grid_column": null,
      "grid_gap": null,
      "grid_row": null,
      "grid_template_areas": null,
      "grid_template_columns": null,
      "grid_template_rows": null,
      "height": null,
      "justify_content": null,
      "justify_items": null,
      "left": null,
      "margin": null,
      "max_height": null,
      "max_width": null,
      "min_height": null,
      "min_width": null,
      "object_fit": null,
      "object_position": null,
      "order": null,
      "overflow": null,
      "overflow_x": null,
      "overflow_y": null,
      "padding": null,
      "right": null,
      "top": null,
      "visibility": null,
      "width": null
     }
    },
    "d665fbed14d0463d8a73b1356170554a": {
     "model_module": "@jupyter-widgets/output",
     "model_name": "OutputModel",
     "state": {
      "_dom_classes": [],
      "_model_module": "@jupyter-widgets/output",
      "_model_module_version": "1.0.0",
      "_model_name": "OutputModel",
      "_view_count": null,
      "_view_module": "@jupyter-widgets/output",
      "_view_module_version": "1.0.0",
      "_view_name": "OutputView",
      "layout": "IPY_MODEL_086c5728af7a46eea5d0cae5d1056ff0",
      "msg_id": "",
      "outputs": [
       {
        "metadata": {
         "tags": []
        },
        "output_type": "stream",
        "stream": "stdout",
        "text": "\nRESULTADOS (Si da positivo es que hay un ahorro. Si es negativo es porque supera el límite)\n\nSimulaciones con cantidad de concursos variable entre 22 y 44:\n- Promedio de las simulaciones (comparación con límite presupuestario): $772289.5\n- Variación (1 desvío estándar): $139607\n- Porcentaje de las simulaciones que no superan límite: %0.0\n\nSimulacion con misma cantidad de concursos que 2020 (22):\n- Promedio de las simulaciones (comparación con límite presupuestario): $978893.5\n- Variación (1 desvío estándar): $54477\n- Porcentaje de las simulaciones que no superan límite: %0.0\n\nSimulacion con %50 mas de concursos que 2020 (33):\n- Promedio de las simulaciones (comparación con límite presupuestario): $713158.0\n- Variación (1 desvío estándar): $64678\n- Porcentaje de las simulaciones que no superan límite: %0.0\n\nSimulacion con el doble de concursos que 2020 (44):\n- Promedio de las simulaciones (comparación con límite presupuestario): $468144.0\n- Variación (1 desvío estándar): $65896\n- Porcentaje de las simulaciones que no superan límite: %0.0\n\nCosto total (año) usando el esquema de pagos elegido para el 2020: $521300\nCosto total (año) usando el esquema de pagos anterior ($31200 por corrector) para el 2020: $686400\nComparación con el método anterior ($31200 por corrector): $165100\n"
       },
       {
        "image/png": "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\n",
        "metadata": {
         "needs_background": "light",
         "tags": []
        },
        "output_type": "display_data",
        "text/plain": "<Figure size 1008x792 with 4 Axes>"
       }
      ]
     }
    },
    "eea93260b9aa4aecb22fc5e6ad74a016": {
     "model_module": "@jupyter-widgets/controls",
     "model_name": "VBoxModel",
     "state": {
      "_dom_classes": [
       "widget-interact"
      ],
      "_model_module": "@jupyter-widgets/controls",
      "_model_module_version": "1.5.0",
      "_model_name": "VBoxModel",
      "_view_count": null,
      "_view_module": "@jupyter-widgets/controls",
      "_view_module_version": "1.5.0",
      "_view_name": "VBoxView",
      "box_style": "",
      "children": [
       "IPY_MODEL_a53a02c0cb244d7cb3cef6cafb24e323",
       "IPY_MODEL_87e3456aaa1e4ff1ae7d757d71b8e0b1",
       "IPY_MODEL_2b37552c4b77402598c48fd4962fe04f",
       "IPY_MODEL_d665fbed14d0463d8a73b1356170554a"
      ],
      "layout": "IPY_MODEL_884a5f10f0454e20acce0fc5c1617195"
     }
    }
   }
  }
 },
 "nbformat": 4,
 "nbformat_minor": 1
}
